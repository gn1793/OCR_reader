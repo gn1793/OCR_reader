{
 "cells": [
  {
   "cell_type": "code",
   "execution_count": 1,
   "id": "ad45f1bd",
   "metadata": {},
   "outputs": [
    {
     "name": "stderr",
     "output_type": "stream",
     "text": [
      "Using CPU. Note: This module is much faster with a GPU.\n",
      "[ WARN:0@1.695] global loadsave.cpp:241 findDecoder imread_('/Users/jy_tony3/sjy/2024/학교/프로젝트/학술제/OCR 데이터셋/Training/01.원천데이터/test3.png'): can't open/read file: check file path/integrity\n"
     ]
    },
    {
     "ename": "ValueError",
     "evalue": "Invalid input type. Supporting format = string(file path or url), bytes, numpy array",
     "output_type": "error",
     "traceback": [
      "\u001b[0;31m---------------------------------------------------------------------------\u001b[0m",
      "\u001b[0;31mValueError\u001b[0m                                Traceback (most recent call last)",
      "Cell \u001b[0;32mIn[1], line 22\u001b[0m\n\u001b[1;32m     20\u001b[0m image \u001b[38;5;241m=\u001b[39m \u001b[38;5;124m'\u001b[39m\u001b[38;5;124m/Users/jy_tony3/sjy/2024/학교/프로젝트/학술제/OCR 데이터셋/Training/01.원천데이터/test3.png\u001b[39m\u001b[38;5;124m'\u001b[39m\n\u001b[1;32m     21\u001b[0m ocr_model \u001b[38;5;241m=\u001b[39m myOCR()\n\u001b[0;32m---> 22\u001b[0m extracted_text \u001b[38;5;241m=\u001b[39m ocr_model\u001b[38;5;241m.\u001b[39mpredict(image)\n\u001b[1;32m     23\u001b[0m \u001b[38;5;28mprint\u001b[39m(\u001b[38;5;124m\"\u001b[39m\u001b[38;5;130;01m\\n\u001b[39;00m\u001b[38;5;124m추출된 텍스트:\u001b[39m\u001b[38;5;130;01m\\n\u001b[39;00m\u001b[38;5;124m\"\u001b[39m, extracted_text)\n",
      "Cell \u001b[0;32mIn[1], line 10\u001b[0m, in \u001b[0;36mmyOCR.predict\u001b[0;34m(self, image)\u001b[0m\n\u001b[1;32m      8\u001b[0m \u001b[38;5;28;01mdef\u001b[39;00m \u001b[38;5;21mpredict\u001b[39m(\u001b[38;5;28mself\u001b[39m, image):\n\u001b[1;32m      9\u001b[0m     preprocessed_image \u001b[38;5;241m=\u001b[39m cv2\u001b[38;5;241m.\u001b[39mimread(image)\n\u001b[0;32m---> 10\u001b[0m     results \u001b[38;5;241m=\u001b[39m myOCR\u001b[38;5;241m.\u001b[39mreader\u001b[38;5;241m.\u001b[39mreadtext(preprocessed_image)\n\u001b[1;32m     12\u001b[0m     extracted_text \u001b[38;5;241m=\u001b[39m \u001b[38;5;124m\"\u001b[39m\u001b[38;5;124m\"\u001b[39m\n\u001b[1;32m     13\u001b[0m     \u001b[38;5;28;01mfor\u001b[39;00m (bbox, text, prob) \u001b[38;5;129;01min\u001b[39;00m results:\n",
      "File \u001b[0;32m/opt/homebrew/anaconda3/lib/python3.12/site-packages/easyocr/easyocr.py:454\u001b[0m, in \u001b[0;36mReader.readtext\u001b[0;34m(self, image, decoder, beamWidth, batch_size, workers, allowlist, blocklist, detail, rotation_info, paragraph, min_size, contrast_ths, adjust_contrast, filter_ths, text_threshold, low_text, link_threshold, canvas_size, mag_ratio, slope_ths, ycenter_ths, height_ths, width_ths, y_ths, x_ths, add_margin, threshold, bbox_min_score, bbox_min_size, max_candidates, output_format)\u001b[0m\n\u001b[1;32m    440\u001b[0m \u001b[38;5;28;01mdef\u001b[39;00m \u001b[38;5;21mreadtext\u001b[39m(\u001b[38;5;28mself\u001b[39m, image, decoder \u001b[38;5;241m=\u001b[39m \u001b[38;5;124m'\u001b[39m\u001b[38;5;124mgreedy\u001b[39m\u001b[38;5;124m'\u001b[39m, beamWidth\u001b[38;5;241m=\u001b[39m \u001b[38;5;241m5\u001b[39m, batch_size \u001b[38;5;241m=\u001b[39m \u001b[38;5;241m1\u001b[39m,\\\n\u001b[1;32m    441\u001b[0m              workers \u001b[38;5;241m=\u001b[39m \u001b[38;5;241m0\u001b[39m, allowlist \u001b[38;5;241m=\u001b[39m \u001b[38;5;28;01mNone\u001b[39;00m, blocklist \u001b[38;5;241m=\u001b[39m \u001b[38;5;28;01mNone\u001b[39;00m, detail \u001b[38;5;241m=\u001b[39m \u001b[38;5;241m1\u001b[39m,\\\n\u001b[1;32m    442\u001b[0m              rotation_info \u001b[38;5;241m=\u001b[39m \u001b[38;5;28;01mNone\u001b[39;00m, paragraph \u001b[38;5;241m=\u001b[39m \u001b[38;5;28;01mFalse\u001b[39;00m, min_size \u001b[38;5;241m=\u001b[39m \u001b[38;5;241m20\u001b[39m,\\\n\u001b[0;32m   (...)\u001b[0m\n\u001b[1;32m    448\u001b[0m              threshold \u001b[38;5;241m=\u001b[39m \u001b[38;5;241m0.2\u001b[39m, bbox_min_score \u001b[38;5;241m=\u001b[39m \u001b[38;5;241m0.2\u001b[39m, bbox_min_size \u001b[38;5;241m=\u001b[39m \u001b[38;5;241m3\u001b[39m, max_candidates \u001b[38;5;241m=\u001b[39m \u001b[38;5;241m0\u001b[39m,\n\u001b[1;32m    449\u001b[0m              output_format\u001b[38;5;241m=\u001b[39m\u001b[38;5;124m'\u001b[39m\u001b[38;5;124mstandard\u001b[39m\u001b[38;5;124m'\u001b[39m):\n\u001b[1;32m    450\u001b[0m \u001b[38;5;250m    \u001b[39m\u001b[38;5;124;03m'''\u001b[39;00m\n\u001b[1;32m    451\u001b[0m \u001b[38;5;124;03m    Parameters:\u001b[39;00m\n\u001b[1;32m    452\u001b[0m \u001b[38;5;124;03m    image: file path or numpy-array or a byte stream object\u001b[39;00m\n\u001b[1;32m    453\u001b[0m \u001b[38;5;124;03m    '''\u001b[39;00m\n\u001b[0;32m--> 454\u001b[0m     img, img_cv_grey \u001b[38;5;241m=\u001b[39m reformat_input(image)\n\u001b[1;32m    456\u001b[0m     horizontal_list, free_list \u001b[38;5;241m=\u001b[39m \u001b[38;5;28mself\u001b[39m\u001b[38;5;241m.\u001b[39mdetect(img, \n\u001b[1;32m    457\u001b[0m                                              min_size \u001b[38;5;241m=\u001b[39m min_size, text_threshold \u001b[38;5;241m=\u001b[39m text_threshold,\\\n\u001b[1;32m    458\u001b[0m                                              low_text \u001b[38;5;241m=\u001b[39m low_text, link_threshold \u001b[38;5;241m=\u001b[39m link_threshold,\\\n\u001b[0;32m   (...)\u001b[0m\n\u001b[1;32m    464\u001b[0m                                              bbox_min_size \u001b[38;5;241m=\u001b[39m bbox_min_size, max_candidates \u001b[38;5;241m=\u001b[39m max_candidates\n\u001b[1;32m    465\u001b[0m                                              )\n\u001b[1;32m    466\u001b[0m     \u001b[38;5;66;03m# get the 1st result from hor & free list as self.detect returns a list of depth 3\u001b[39;00m\n",
      "File \u001b[0;32m/opt/homebrew/anaconda3/lib/python3.12/site-packages/easyocr/utils.py:767\u001b[0m, in \u001b[0;36mreformat_input\u001b[0;34m(image)\u001b[0m\n\u001b[1;32m    765\u001b[0m     img_cv_grey \u001b[38;5;241m=\u001b[39m cv2\u001b[38;5;241m.\u001b[39mcvtColor(img, cv2\u001b[38;5;241m.\u001b[39mCOLOR_BGR2GRAY)\n\u001b[1;32m    766\u001b[0m \u001b[38;5;28;01melse\u001b[39;00m:\n\u001b[0;32m--> 767\u001b[0m     \u001b[38;5;28;01mraise\u001b[39;00m \u001b[38;5;167;01mValueError\u001b[39;00m(\u001b[38;5;124m'\u001b[39m\u001b[38;5;124mInvalid input type. Supporting format = string(file path or url), bytes, numpy array\u001b[39m\u001b[38;5;124m'\u001b[39m)\n\u001b[1;32m    769\u001b[0m \u001b[38;5;28;01mreturn\u001b[39;00m img, img_cv_grey\n",
      "\u001b[0;31mValueError\u001b[0m: Invalid input type. Supporting format = string(file path or url), bytes, numpy array"
     ]
    }
   ],
   "source": [
    "from easyocr import Reader\n",
    "import cv2\n",
    "\n",
    "class myOCR:\n",
    "    def __init__(self, langs=['ko', 'en']):\n",
    "            myOCR.reader = Reader(lang_list=langs, gpu=False)\n",
    "\n",
    "    def predict(self, image):\n",
    "        preprocessed_image = cv2.imread(image)\n",
    "        results = myOCR.reader.readtext(preprocessed_image)\n",
    "        \n",
    "        extracted_text = \"\"\n",
    "        for (bbox, text, prob) in results:\n",
    "            print(f\"[INFO] {prob:.4f}: {text}\")\n",
    "            extracted_text += text + \"\\n\"\n",
    "        \n",
    "        return extracted_text\n",
    "\n",
    "# 사용\n",
    "image = '/Users/jy_tony3/sjy/2024/학교/프로젝트/학술제/OCR 데이터셋/Training/01.원천데이터/test3.png'\n",
    "ocr_model = myOCR()\n",
    "extracted_text = ocr_model.predict(image)\n",
    "print(\"\\n추출된 텍스트:\\n\", extracted_text)\n"
   ]
  },
  {
   "cell_type": "code",
   "execution_count": null,
   "id": "44a77563",
   "metadata": {},
   "outputs": [],
   "source": []
  }
 ],
 "metadata": {
  "kernelspec": {
   "display_name": "base",
   "language": "python",
   "name": "python3"
  },
  "language_info": {
   "codemirror_mode": {
    "name": "ipython",
    "version": 3
   },
   "file_extension": ".py",
   "mimetype": "text/x-python",
   "name": "python",
   "nbconvert_exporter": "python",
   "pygments_lexer": "ipython3",
   "version": "3.12.2"
  }
 },
 "nbformat": 4,
 "nbformat_minor": 5
}
